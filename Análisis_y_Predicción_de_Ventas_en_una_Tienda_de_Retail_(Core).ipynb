{
  "nbformat": 4,
  "nbformat_minor": 0,
  "metadata": {
    "colab": {
      "provenance": []
    },
    "kernelspec": {
      "name": "python3",
      "display_name": "Python 3"
    },
    "language_info": {
      "name": "python"
    }
  },
  "cells": [
    {
      "cell_type": "code",
      "source": [
        "from google.colab import drive\n",
        "drive.mount('/content/drive')"
      ],
      "metadata": {
        "colab": {
          "base_uri": "https://localhost:8080/"
        },
        "id": "Eo-VpsF3d2aU",
        "outputId": "90bb5dc7-ccc6-49b7-d80a-efc64c8378c4"
      },
      "execution_count": 36,
      "outputs": [
        {
          "output_type": "stream",
          "name": "stdout",
          "text": [
            "Drive already mounted at /content/drive; to attempt to forcibly remount, call drive.mount(\"/content/drive\", force_remount=True).\n"
          ]
        }
      ]
    },
    {
      "cell_type": "code",
      "source": [
        "import numpy as np\n",
        "\n",
        "#Ignacio Antillanca\n",
        "\n",
        "# cargar el archivo csv con encabezados formato tabla\n",
        "datos = np.genfromtxt('/content/retail_sales_dataset.csv', delimiter=',', dtype=None, encoding='utf-8', names=True)\n",
        "\n",
        "# filtrar NaN de campos numericos\n",
        "datos_limpios = datos[~np.isnan(datos['Quantity']) & ~np.isnan(datos['Price_per_Unit']) & ~np.isnan(datos['Total_Amount'])]\n",
        "\n",
        "# calcula el total de ventas por categoría de producto.\n",
        "categorias = np.unique(datos_limpios['Product_Category'])\n",
        "print(\"Total de ventas por categoria: $\")\n",
        "\n",
        "for cat in categorias:\n",
        "    total = np.sum(datos_limpios['Total_Amount'][datos_limpios['Product_Category'] == cat])\n",
        "    print(f\"  {cat}: ${total:.2f}\")\n",
        "\n",
        "# calcula el promedio de ventas diarias por categoría de producto.\n",
        "print(\"Promedio diario por categoria: $\")\n",
        "\n",
        "for cat in categorias:\n",
        "    promedio = np.mean(datos_limpios['Total_Amount'][datos_limpios['Product_Category'] == cat])\n",
        "    print(f\"  {cat}: ${promedio:.2f}\")\n",
        "\n",
        "# identifica las categorías de productos con mayores y menores ventas.\n",
        "totales = np.array([np.sum(datos_limpios['Total_Amount'][datos_limpios['Product_Category'] == cat]) for cat in categorias])\n",
        "\n",
        "max = categorias[np.argmax(totales)]\n",
        "min = categorias[np.argmin(totales)]\n",
        "\n",
        "print(f\"Mayor venta: {max} con ${np.max(totales):.2f}\")\n",
        "print(f\"Menor venta: {min} con ${np.min(totales):.2f}\")\n",
        "\n",
        "# Filtra los datos para mostrar solo las ventas de una categoría de producto específica. (Beauty, Clothing, Electronics)\n",
        "filtro = datos_limpios[datos_limpios['Product_Category'] == 'Electronics']\n",
        "print(f\"Primera fila de Electronics: {filtro[:1]}\")\n",
        "\n",
        "# Realiza operaciones de suma, resta, multiplicación y división en los datos para obtener estadísticas adicionales.\n",
        "ventas = filtro['Total_Amount']\n",
        "print(\"Operaciones sobre Electronics:\")\n",
        "print(f\"Suma total: {np.sum(ventas):.2f}\")\n",
        "print(f\"Resta 50: {ventas[:3] - 50}\")\n",
        "print(f\"Multiplicación por 2: {ventas[:3] * 2}\")\n",
        "print(f\"División por 2: {ventas[:3] / 2}\")\n"
      ],
      "metadata": {
        "colab": {
          "base_uri": "https://localhost:8080/"
        },
        "id": "sWsmn4jcpVlN",
        "outputId": "50bc60d7-cf39-4800-9e4b-0d82afd10cea"
      },
      "execution_count": 40,
      "outputs": [
        {
          "output_type": "stream",
          "name": "stdout",
          "text": [
            "Total de ventas por categoria: $\n",
            "  Beauty: $143515.00\n",
            "  Clothing: $155580.00\n",
            "  Electronics: $156905.00\n",
            "Promedio diario por categoria: $\n",
            "  Beauty: $467.48\n",
            "  Clothing: $443.25\n",
            "  Electronics: $458.79\n",
            "Mayor venta: Electronics con $156905.00\n",
            "Menor venta: Beauty con $143515.00\n",
            "Primeras filas de Electronics: [(3, '2023-01-13', 'CUST003', 'Male', 50, 'Electronics', 1, 30, 30)]\n",
            "Operaciones sobre Electronics:\n",
            "Suma total: 156905.00\n",
            "Resta 50: [-20  50 550]\n",
            "Multiplicación por 2: [  60  200 1200]\n",
            "División por 2: [ 15.  50. 300.]\n"
          ]
        }
      ]
    }
  ]
}